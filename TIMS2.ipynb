{
 "cells": [
  {
   "cell_type": "code",
   "execution_count": 31,
   "id": "dd4e57f6-b8ab-475c-bbb5-64ecbb270912",
   "metadata": {},
   "outputs": [],
   "source": [
    "import numpy as np"
   ]
  },
  {
   "cell_type": "code",
   "execution_count": 32,
   "id": "5f270404-19e3-42ca-aa6d-2c52eda692c0",
   "metadata": {},
   "outputs": [
    {
     "data": {
      "text/plain": [
       "array([13, 42,  9,  6, 37, 33, 42, 28, 45, 27, 17, 29, 40, 19, 42, 36, 30,\n",
       "        9, 22, 44, 15, 32, 39, 40, 23, 20, 38, 42, 27, 36, 17, 14, 16, 42,\n",
       "       22, 27, 33, 31, 24, 28, 24, 21, 21,  9, 42,  5, 13, 31,  9, 19, 37,\n",
       "       40, 20, 27, 14, 21, 28, 18, 20, 12,  6, 20, 29,  8, 45, 32, 21, 45,\n",
       "       28, 14, 24, 12, 23, 25, 38, 14, 43, 14, 40, 30, 43, 27, 13,  5, 42,\n",
       "       24, 10, 30, 29, 20,  5, 44, 23,  5, 32, 41, 10, 30, 24, 12, 27, 44,\n",
       "       38, 39, 38, 35, 16, 29, 22, 43, 31, 37, 41, 20, 22, 14,  5, 37, 36,\n",
       "       22, 30,  5, 38, 11, 30, 10, 37, 45, 14, 24,  5, 29,  8, 31, 20, 23,\n",
       "       33, 25, 34, 13, 20,  6, 29, 35, 32, 37,  5, 39, 30, 12, 25, 36, 16,\n",
       "       29, 22,  7, 15,  5, 22, 37, 29, 29, 26, 34, 32,  6, 38, 36, 11, 31,\n",
       "       20, 37, 13, 24, 14, 15, 35, 34,  5, 16,  5, 36, 10, 40,  8, 36, 23,\n",
       "        6, 18, 26, 27, 15, 13, 20, 26, 15, 21, 14, 23, 32])"
      ]
     },
     "execution_count": 32,
     "metadata": {},
     "output_type": "execute_result"
    }
   ],
   "source": [
    "array=np.random.randint(5,46,200)\n",
    "array"
   ]
  },
  {
   "cell_type": "code",
   "execution_count": 33,
   "id": "0873b896-8bec-4938-b6d7-bacbbdba3e6d",
   "metadata": {},
   "outputs": [
    {
     "data": {
      "text/plain": [
       "8"
      ]
     },
     "execution_count": 33,
     "metadata": {},
     "output_type": "execute_result"
    }
   ],
   "source": [
    "r=0\n",
    "while(2**r<array.size):\n",
    "    r = r + 1\n",
    "r"
   ]
  },
  {
   "cell_type": "code",
   "execution_count": 34,
   "id": "b7bb6bdd-3032-424f-98a5-097aef7642b1",
   "metadata": {},
   "outputs": [
    {
     "data": {
      "text/plain": [
       "5"
      ]
     },
     "execution_count": 34,
     "metadata": {},
     "output_type": "execute_result"
    }
   ],
   "source": [
    "d=int((array.max()-array.min())/r)\n",
    "d"
   ]
  },
  {
   "cell_type": "code",
   "execution_count": 35,
   "id": "49a6ead7-81ff-424e-b205-d7b26e71ef2b",
   "metadata": {},
   "outputs": [
    {
     "data": {
      "text/plain": [
       "[[5, 10], [10, 15], [15, 20], [20, 25], [25, 30], [30, 35], [35, 40], [40, 45]]"
      ]
     },
     "execution_count": 35,
     "metadata": {},
     "output_type": "execute_result"
    }
   ],
   "source": [
    "p=np.unique(array)\n",
    "arr=[]\n",
    "a=0\n",
    "for i in range(r):\n",
    "    ar=[]\n",
    "    ar.append(p[a])\n",
    "    ar.append(p[a+d])\n",
    "    arr.append(ar)\n",
    "    a+=d\n",
    "arr"
   ]
  },
  {
   "cell_type": "code",
   "execution_count": 36,
   "id": "4cd4fd77-7027-45d8-92a5-286c412d2794",
   "metadata": {},
   "outputs": [
    {
     "data": {
      "text/plain": [
       "[7.5, 12.5, 17.5, 22.5, 27.5, 32.5, 37.5, 42.5]"
      ]
     },
     "execution_count": 36,
     "metadata": {},
     "output_type": "execute_result"
    }
   ],
   "source": [
    "zi=[]\n",
    "z=0\n",
    "for i in range(r):\n",
    "    z=(arr[i][0]+arr[i][1])/2\n",
    "    zi.append(z)\n",
    "    z=0\n",
    "zi"
   ]
  },
  {
   "cell_type": "code",
   "execution_count": 37,
   "id": "4a99cc6e-3335-4750-9f38-cdae052cec81",
   "metadata": {},
   "outputs": [
    {
     "data": {
      "text/plain": [
       "[24, 25, 15, 35, 26, 24, 27, 24]"
      ]
     },
     "execution_count": 37,
     "metadata": {},
     "output_type": "execute_result"
    }
   ],
   "source": [
    "ni=[]\n",
    "k=0\n",
    "for i in range(r-1):\n",
    "    for j in range(array.size):\n",
    "        if (array[j]>=arr[i][0] and array[j]<arr[i][1]):\n",
    "            k+=1\n",
    "    ni.append(k)\n",
    "    k=0\n",
    "for j in range(array.size):\n",
    "    if (array[j]>=arr[-1][0] and array[j]<=arr[-1][1]):\n",
    "        k+=1\n",
    "ni.append(k)\n",
    "ni        "
   ]
  },
  {
   "cell_type": "code",
   "execution_count": 38,
   "id": "b274c3be-ec91-4805-904a-d011a9e53106",
   "metadata": {},
   "outputs": [
    {
     "data": {
      "text/plain": [
       "200"
      ]
     },
     "execution_count": 38,
     "metadata": {},
     "output_type": "execute_result"
    }
   ],
   "source": [
    "sum=0\n",
    "for i in range(len(ni)):\n",
    "    sum+=ni[i]\n",
    "sum"
   ]
  },
  {
   "cell_type": "code",
   "execution_count": 39,
   "id": "ee82b491-9328-4a29-9ed1-e498acc285ac",
   "metadata": {},
   "outputs": [],
   "source": [
    "import matplotlib.pyplot as plt\n",
    "import statistics"
   ]
  },
  {
   "cell_type": "code",
   "execution_count": 40,
   "id": "c3658b9e-13a8-4117-b256-e208b199170f",
   "metadata": {},
   "outputs": [
    {
     "data": {
      "text/plain": [
       "[<matplotlib.lines.Line2D at 0x1346f4c2400>]"
      ]
     },
     "execution_count": 40,
     "metadata": {},
     "output_type": "execute_result"
    },
    {
     "data": {
      "image/png": "[encoded data removed]",
      "text/plain": [
       "<Figure size 432x288 with 1 Axes>"
      ]
     },
     "metadata": {
      "needs_background": "light"
     },
     "output_type": "display_data"
    }
   ],
   "source": [
    "plt.grid()\n",
    "plt.plot(zi,ni,color=\"green\",marker=\".\")"
   ]
  },
  {
   "cell_type": "code",
   "execution_count": 41,
   "id": "af0383bd-3fe4-4f3a-936c-af940e0a4fb3",
   "metadata": {},
   "outputs": [
    {
     "data": {
      "image/png": "[encoded data removed]",
      "text/plain": [
       "<Figure size 432x288 with 1 Axes>"
      ]
     },
     "metadata": {
      "needs_background": "light"
     },
     "output_type": "display_data"
    }
   ],
   "source": [
    "plt.vlines(zi,0,ni,color=\"red\")\n",
    "plt.grid()"
   ]
  },
  {
   "cell_type": "code",
   "execution_count": 42,
   "id": "6f539341-3c8f-4893-9901-c9e9f988f40a",
   "metadata": {},
   "outputs": [
    {
     "data": {
      "text/plain": [
       "<BarContainer object of 8 artists>"
      ]
     },
     "execution_count": 42,
     "metadata": {},
     "output_type": "execute_result"
    },
    {
     "data": {
      "image/png": "[encoded data removed]",
      "text/plain": [
       "<Figure size 432x288 with 1 Axes>"
      ]
     },
     "metadata": {
      "needs_background": "light"
     },
     "output_type": "display_data"
    }
   ],
   "source": [
    "plt.bar(zi,ni,color='blue', width=d)"
   ]
  },
  {
   "cell_type": "code",
   "execution_count": 44,
   "id": "d02a5166-92b6-4214-9e42-804611ab360a",
   "metadata": {},
   "outputs": [],
   "source": [
    "from collections import Counter"
   ]
  },
  {
   "cell_type": "code",
   "execution_count": 59,
   "id": "02005d0f-06f7-47fa-af53-02234b7ee8c2",
   "metadata": {},
   "outputs": [
    {
     "data": {
      "image/png": "[encoded data removed]",
      "text/plain": [
       "<Figure size 432x288 with 1 Axes>"
      ]
     },
     "metadata": {
      "needs_background": "light"
     },
     "output_type": "display_data"
    }
   ],
   "source": [
    "vs = dict(Counter(sorted(array)))    \n",
    "val = list(vs.keys())\n",
    "freq = list(vs.values())\n",
    "    \n",
    "plt.title(\"Empirical cumulative distribution curve\")\n",
    "plt.xlabel(\"Value\")\n",
    "plt.ylabel(\"Cumulative frequency\")  \n",
    "plt.ylim([0, 1.1])\n",
    "    \n",
    "y = np.cumsum(freq / np.sum(freq))\n",
    "    \n",
    "for i in range(1, len(val)):\n",
    "    plt.hlines(y=y[i], xmin=val[i-1], xmax=val[i], colors='red')\n",
    "    \n",
    "plt.grid(axis='y')"
   ]
  },
  {
   "cell_type": "code",
   "execution_count": 49,
   "id": "bfe19007-f5a7-4810-a26d-49c602564d1e",
   "metadata": {},
   "outputs": [
    {
     "data": {
      "text/plain": [
       "[0.12, 0.125, 0.075, 0.175, 0.13, 0.12, 0.135, 0.12]"
      ]
     },
     "execution_count": 49,
     "metadata": {},
     "output_type": "execute_result"
    }
   ],
   "source": [
    "probability1=[]\n",
    "p=0\n",
    "for i in range(r):\n",
    "    p=ni[i]/array.size\n",
    "    probability1.append(p)\n",
    "    p=0\n",
    "probability1"
   ]
  },
  {
   "cell_type": "code",
   "execution_count": 24,
   "id": "eb416ee3-ebcd-4943-9eff-dab2ee6ac66f",
   "metadata": {},
   "outputs": [
    {
     "name": "stdout",
     "output_type": "stream",
     "text": [
      "Середнє арифметичне\n"
     ]
    },
    {
     "data": {
      "text/plain": [
       "26.0"
      ]
     },
     "execution_count": 24,
     "metadata": {},
     "output_type": "execute_result"
    }
   ],
   "source": [
    "average=0\n",
    "print(\"Середнє арифметичне\")\n",
    "for i in range(r):\n",
    "    average+=zi[i]*ni[i]\n",
    "average=average/array.size\n",
    "average"
   ]
  },
  {
   "cell_type": "code",
   "execution_count": 25,
   "id": "977b5d0f-8b73-4773-9325-1c98882280a9",
   "metadata": {},
   "outputs": [
    {
     "name": "stdout",
     "output_type": "stream",
     "text": [
      "Медіана\n"
     ]
    },
    {
     "data": {
      "text/plain": [
       "26.0"
      ]
     },
     "execution_count": 25,
     "metadata": {},
     "output_type": "execute_result"
    }
   ],
   "source": [
    "print(\"Медіана\")\n",
    "Me=statistics.median(array)\n",
    "Me"
   ]
  },
  {
   "cell_type": "code",
   "execution_count": 26,
   "id": "1d242ffb-e890-4a46-8fdd-4476e08308fe",
   "metadata": {},
   "outputs": [
    {
     "name": "stdout",
     "output_type": "stream",
     "text": [
      "Мода\n"
     ]
    },
    {
     "data": {
      "text/plain": [
       "25"
      ]
     },
     "execution_count": 26,
     "metadata": {},
     "output_type": "execute_result"
    }
   ],
   "source": [
    "print(\"Мода\")\n",
    "Mo=statistics.mode(array)\n",
    "Mo"
   ]
  },
  {
   "cell_type": "code",
   "execution_count": 27,
   "id": "8a5830af-487d-4325-8a72-ad2eca68ef21",
   "metadata": {},
   "outputs": [
    {
     "name": "stdout",
     "output_type": "stream",
     "text": [
      "Девіація\n"
     ]
    },
    {
     "data": {
      "text/plain": [
       "27950.0"
      ]
     },
     "execution_count": 27,
     "metadata": {},
     "output_type": "execute_result"
    }
   ],
   "source": [
    "D=0\n",
    "print(\"Девіація\")\n",
    "for i in range(r):\n",
    "    D+=((zi[i]-average)**2)*ni[i]\n",
    "D"
   ]
  },
  {
   "cell_type": "code",
   "execution_count": 28,
   "id": "cc595666-0ca7-4131-a841-dc5790ac38f9",
   "metadata": {},
   "outputs": [
    {
     "name": "stdout",
     "output_type": "stream",
     "text": [
      "Розмах\n"
     ]
    },
    {
     "data": {
      "text/plain": [
       "40"
      ]
     },
     "execution_count": 28,
     "metadata": {},
     "output_type": "execute_result"
    }
   ],
   "source": [
    "print(\"Розмах\")\n",
    "ro=array.max()-array.min()\n",
    "ro"
   ]
  },
  {
   "cell_type": "code",
   "execution_count": 29,
   "id": "e446d079-ad5c-43d0-b04b-1dd582026579",
   "metadata": {},
   "outputs": [
    {
     "name": "stdout",
     "output_type": "stream",
     "text": [
      "Варіанса\n"
     ]
    },
    {
     "data": {
      "text/plain": [
       "140.45226130653268"
      ]
     },
     "execution_count": 29,
     "metadata": {},
     "output_type": "execute_result"
    }
   ],
   "source": [
    "print(\"Варіанса\")\n",
    "s2=0\n",
    "for i in range(r):\n",
    "    s2+=ni[i]*((zi[i]-average)**2)\n",
    "s2*=1/(array.size-1)\n",
    "s2"
   ]
  },
  {
   "cell_type": "code",
   "execution_count": 30,
   "id": "342f3844-1190-43a4-908c-c7343ea47e8f",
   "metadata": {},
   "outputs": [
    {
     "name": "stdout",
     "output_type": "stream",
     "text": [
      "Стандарт\n"
     ]
    },
    {
     "data": {
      "text/plain": [
       "11.851255684801197"
      ]
     },
     "execution_count": 30,
     "metadata": {},
     "output_type": "execute_result"
    }
   ],
   "source": [
    "import math\n",
    "print(\"Стандарт\")\n",
    "s=math.sqrt(s2)\n",
    "s"
   ]
  },
  {
   "cell_type": "code",
   "execution_count": 31,
   "id": "c2863354-cc33-4a1a-8e0f-250c824888e3",
   "metadata": {},
   "outputs": [
    {
     "name": "stdout",
     "output_type": "stream",
     "text": [
      "Варіація\n"
     ]
    },
    {
     "data": {
      "text/plain": [
       "0.4558175263385076"
      ]
     },
     "execution_count": 31,
     "metadata": {},
     "output_type": "execute_result"
    }
   ],
   "source": [
    "print(\"Варіація\")\n",
    "v=s/average\n",
    "v"
   ]
  },
  {
   "cell_type": "code",
   "execution_count": null,
   "id": "831373dd-7426-43fc-a475-1b030d688765",
   "metadata": {},
   "outputs": [],
   "source": []
  },
  {
   "cell_type": "code",
   "execution_count": null,
   "id": "14436655-0299-46dd-9111-26eb52a6f091",
   "metadata": {},
   "outputs": [],
   "source": []
  }
 ],
 "metadata": {
  "kernelspec": {
   "display_name": "Python 3",
   "language": "python",
   "name": "python3"
  },
  "language_info": {
   "codemirror_mode": {
    "name": "ipython",
    "version": 3
   },
   "file_extension": ".py",
   "mimetype": "text/x-python",
   "name": "python",
   "nbconvert_exporter": "python",
   "pygments_lexer": "ipython3",
   "version": "3.8.8"
  }
 },
 "nbformat": 4,
 "nbformat_minor": 5
}
